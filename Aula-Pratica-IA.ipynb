{
 "cells": [
  {
   "cell_type": "code",
   "execution_count": 4,
   "id": "904606ae-402c-46f3-89c6-d524e74a7935",
   "metadata": {},
   "outputs": [
    {
     "name": "stderr",
     "output_type": "stream",
     "text": [
      "WARNING: Ignoring invalid distribution ~ydantic (C:\\Users\\wende\\anaconda3\\Lib\\site-packages)\n",
      "WARNING: Ignoring invalid distribution ~ydantic (C:\\Users\\wende\\anaconda3\\Lib\\site-packages)\n",
      "WARNING: Ignoring invalid distribution ~ydantic (C:\\Users\\wende\\anaconda3\\Lib\\site-packages)\n"
     ]
    },
    {
     "name": "stdout",
     "output_type": "stream",
     "text": [
      "Requirement already satisfied: langchain-ollama in c:\\users\\wende\\anaconda3\\lib\\site-packages (0.3.3)\n",
      "Requirement already satisfied: ollama<1.0.0,>=0.4.8 in c:\\users\\wende\\anaconda3\\lib\\site-packages (from langchain-ollama) (0.5.1)\n",
      "Requirement already satisfied: langchain-core<1.0.0,>=0.3.60 in c:\\users\\wende\\anaconda3\\lib\\site-packages (from langchain-ollama) (0.3.64)\n",
      "Requirement already satisfied: langsmith<0.4,>=0.3.45 in c:\\users\\wende\\anaconda3\\lib\\site-packages (from langchain-core<1.0.0,>=0.3.60->langchain-ollama) (0.3.45)\n",
      "Requirement already satisfied: tenacity!=8.4.0,<10.0.0,>=8.1.0 in c:\\users\\wende\\anaconda3\\lib\\site-packages (from langchain-core<1.0.0,>=0.3.60->langchain-ollama) (8.2.3)\n",
      "Requirement already satisfied: jsonpatch<2.0,>=1.33 in c:\\users\\wende\\anaconda3\\lib\\site-packages (from langchain-core<1.0.0,>=0.3.60->langchain-ollama) (1.33)\n",
      "Requirement already satisfied: PyYAML>=5.3 in c:\\users\\wende\\anaconda3\\lib\\site-packages (from langchain-core<1.0.0,>=0.3.60->langchain-ollama) (6.0.1)\n",
      "Requirement already satisfied: packaging<25,>=23.2 in c:\\users\\wende\\anaconda3\\lib\\site-packages (from langchain-core<1.0.0,>=0.3.60->langchain-ollama) (24.1)\n",
      "Requirement already satisfied: typing-extensions>=4.7 in c:\\users\\wende\\anaconda3\\lib\\site-packages (from langchain-core<1.0.0,>=0.3.60->langchain-ollama) (4.14.0)\n",
      "Requirement already satisfied: pydantic>=2.7.4 in c:\\users\\wende\\anaconda3\\lib\\site-packages (from langchain-core<1.0.0,>=0.3.60->langchain-ollama) (2.11.5)\n",
      "Requirement already satisfied: httpx>=0.27 in c:\\users\\wende\\anaconda3\\lib\\site-packages (from ollama<1.0.0,>=0.4.8->langchain-ollama) (0.27.0)\n",
      "Requirement already satisfied: anyio in c:\\users\\wende\\anaconda3\\lib\\site-packages (from httpx>=0.27->ollama<1.0.0,>=0.4.8->langchain-ollama) (4.2.0)\n",
      "Requirement already satisfied: certifi in c:\\users\\wende\\anaconda3\\lib\\site-packages (from httpx>=0.27->ollama<1.0.0,>=0.4.8->langchain-ollama) (2025.4.26)\n",
      "Requirement already satisfied: httpcore==1.* in c:\\users\\wende\\anaconda3\\lib\\site-packages (from httpx>=0.27->ollama<1.0.0,>=0.4.8->langchain-ollama) (1.0.2)\n",
      "Requirement already satisfied: idna in c:\\users\\wende\\anaconda3\\lib\\site-packages (from httpx>=0.27->ollama<1.0.0,>=0.4.8->langchain-ollama) (3.7)\n",
      "Requirement already satisfied: sniffio in c:\\users\\wende\\anaconda3\\lib\\site-packages (from httpx>=0.27->ollama<1.0.0,>=0.4.8->langchain-ollama) (1.3.0)\n",
      "Requirement already satisfied: h11<0.15,>=0.13 in c:\\users\\wende\\anaconda3\\lib\\site-packages (from httpcore==1.*->httpx>=0.27->ollama<1.0.0,>=0.4.8->langchain-ollama) (0.14.0)\n",
      "Requirement already satisfied: jsonpointer>=1.9 in c:\\users\\wende\\anaconda3\\lib\\site-packages (from jsonpatch<2.0,>=1.33->langchain-core<1.0.0,>=0.3.60->langchain-ollama) (2.1)\n",
      "Requirement already satisfied: orjson<4.0.0,>=3.9.14 in c:\\users\\wende\\anaconda3\\lib\\site-packages (from langsmith<0.4,>=0.3.45->langchain-core<1.0.0,>=0.3.60->langchain-ollama) (3.10.18)\n",
      "Requirement already satisfied: requests<3,>=2 in c:\\users\\wende\\anaconda3\\lib\\site-packages (from langsmith<0.4,>=0.3.45->langchain-core<1.0.0,>=0.3.60->langchain-ollama) (2.32.3)\n",
      "Requirement already satisfied: requests-toolbelt<2.0.0,>=1.0.0 in c:\\users\\wende\\anaconda3\\lib\\site-packages (from langsmith<0.4,>=0.3.45->langchain-core<1.0.0,>=0.3.60->langchain-ollama) (1.0.0)\n",
      "Requirement already satisfied: zstandard<0.24.0,>=0.23.0 in c:\\users\\wende\\anaconda3\\lib\\site-packages (from langsmith<0.4,>=0.3.45->langchain-core<1.0.0,>=0.3.60->langchain-ollama) (0.23.0)\n",
      "Requirement already satisfied: annotated-types>=0.6.0 in c:\\users\\wende\\anaconda3\\lib\\site-packages (from pydantic>=2.7.4->langchain-core<1.0.0,>=0.3.60->langchain-ollama) (0.6.0)\n",
      "Requirement already satisfied: pydantic-core==2.33.2 in c:\\users\\wende\\anaconda3\\lib\\site-packages (from pydantic>=2.7.4->langchain-core<1.0.0,>=0.3.60->langchain-ollama) (2.33.2)\n",
      "Requirement already satisfied: typing-inspection>=0.4.0 in c:\\users\\wende\\anaconda3\\lib\\site-packages (from pydantic>=2.7.4->langchain-core<1.0.0,>=0.3.60->langchain-ollama) (0.4.1)\n",
      "Requirement already satisfied: charset-normalizer<4,>=2 in c:\\users\\wende\\anaconda3\\lib\\site-packages (from requests<3,>=2->langsmith<0.4,>=0.3.45->langchain-core<1.0.0,>=0.3.60->langchain-ollama) (3.3.2)\n",
      "Requirement already satisfied: urllib3<3,>=1.21.1 in c:\\users\\wende\\anaconda3\\lib\\site-packages (from requests<3,>=2->langsmith<0.4,>=0.3.45->langchain-core<1.0.0,>=0.3.60->langchain-ollama) (2.2.3)\n"
     ]
    },
    {
     "name": "stderr",
     "output_type": "stream",
     "text": [
      "WARNING: Ignoring invalid distribution ~ydantic (C:\\Users\\wende\\anaconda3\\Lib\\site-packages)\n",
      "WARNING: Ignoring invalid distribution ~ydantic (C:\\Users\\wende\\anaconda3\\Lib\\site-packages)\n",
      "WARNING: Ignoring invalid distribution ~ydantic (C:\\Users\\wende\\anaconda3\\Lib\\site-packages)\n"
     ]
    }
   ],
   "source": [
    "!pip install -q langchain chromadb bs4 langchain-community\n",
    "!pip install -U langchain-ollama"
   ]
  },
  {
   "cell_type": "code",
   "execution_count": 8,
   "id": "99445b1a-419c-4e76-b570-125baee7034e",
   "metadata": {},
   "outputs": [
    {
     "name": "stderr",
     "output_type": "stream",
     "text": [
      "WARNING: Ignoring invalid distribution ~ydantic (C:\\Users\\wende\\anaconda3\\Lib\\site-packages)\n",
      "WARNING: Ignoring invalid distribution ~ydantic (C:\\Users\\wende\\anaconda3\\Lib\\site-packages)\n",
      "WARNING: Ignoring invalid distribution ~ydantic (C:\\Users\\wende\\anaconda3\\Lib\\site-packages)\n"
     ]
    }
   ],
   "source": [
    "!pip install -q langchain PyMuPDF"
   ]
  },
  {
   "cell_type": "code",
   "execution_count": 6,
   "id": "85735b50-7b72-45d9-926c-a2b1b2fdc9a4",
   "metadata": {},
   "outputs": [],
   "source": [
    "nome_arquivo = \"PGDE0269-D.pdf\""
   ]
  },
  {
   "cell_type": "code",
   "execution_count": 9,
   "id": "fb07d4ee-8a0d-4a2b-9873-5e9653f8f5b6",
   "metadata": {},
   "outputs": [],
   "source": [
    "from langchain.document_loaders import PyMuPDFLoader\n",
    "\n",
    "# nome_arquivo = list(uploaded.keys())[0]  # Pega o primeiro arquivo enviado\n",
    "\n",
    "loader = PyMuPDFLoader(nome_arquivo)\n",
    "documents = loader.load()"
   ]
  },
  {
   "cell_type": "code",
   "execution_count": 12,
   "id": "bbf669ae-da8d-40e1-93d7-4bdf1271952f",
   "metadata": {},
   "outputs": [
    {
     "name": "stdout",
     "output_type": "stream",
     "text": [
      "Chunks gerados: 290\n"
     ]
    }
   ],
   "source": [
    "# Dividir o conteúdo em partes (chunks)\n",
    "from langchain.text_splitter import RecursiveCharacterTextSplitter\n",
    "\n",
    "text_splitter = RecursiveCharacterTextSplitter(chunk_size=1000, chunk_overlap=200)\n",
    "docs = text_splitter.split_documents(documents)\n",
    "\n",
    "print(f\"Chunks gerados: {len(docs)}\")"
   ]
  },
  {
   "cell_type": "code",
   "execution_count": 16,
   "id": "199d279a-e386-429b-86b0-45e810dcb977",
   "metadata": {},
   "outputs": [
    {
     "name": "stderr",
     "output_type": "stream",
     "text": [
      "WARNING: Ignoring invalid distribution ~ydantic (C:\\Users\\wende\\anaconda3\\Lib\\site-packages)\n",
      "WARNING: Ignoring invalid distribution ~ydantic (C:\\Users\\wende\\anaconda3\\Lib\\site-packages)\n",
      "WARNING: Ignoring invalid distribution ~ydantic (C:\\Users\\wende\\anaconda3\\Lib\\site-packages)\n"
     ]
    }
   ],
   "source": [
    "!pip install -q tqdm"
   ]
  },
  {
   "cell_type": "code",
   "execution_count": 24,
   "id": "ebebeb0f-46f0-4f10-ab54-e13652d2ecfc",
   "metadata": {},
   "outputs": [
    {
     "name": "stderr",
     "output_type": "stream",
     "text": [
      "Gerando embeddings: 100%|██████████| 290/290 [3:51:39<00:00, 47.93s/it]  \n"
     ]
    }
   ],
   "source": [
    "from langchain_ollama import OllamaEmbeddings\n",
    "from langchain_community.vectorstores import Chroma\n",
    "from tqdm import tqdm\n",
    "\n",
    "# Inicializa os embeddings\n",
    "embeddings = OllamaEmbeddings(model=\"llama2\")\n",
    "\n",
    "# Cria vetor vazio do Chroma, ou seja sem documentos\n",
    "vectorstore = Chroma(embedding_function=embeddings, persist_directory=\"chroma_db\")\n",
    "\n",
    "# Adiciona os documentos\n",
    "for doc in tqdm(docs, desc=\"Gerando embeddings\"):\n",
    "    vectorstore.add_documents([doc])"
   ]
  },
  {
   "cell_type": "code",
   "execution_count": 27,
   "id": "928addff-0697-4993-ac31-ed513e1c89b0",
   "metadata": {},
   "outputs": [
    {
     "name": "stderr",
     "output_type": "stream",
     "text": [
      "C:\\Users\\wende\\AppData\\Local\\Temp\\ipykernel_6392\\3081704472.py:3: LangChainDeprecationWarning: The class `Ollama` was deprecated in LangChain 0.3.1 and will be removed in 1.0.0. An updated version of the class exists in the :class:`~langchain-ollama package and should be used instead. To use it run `pip install -U :class:`~langchain-ollama` and import as `from :class:`~langchain_ollama import OllamaLLM``.\n",
      "  llm = Ollama(model=\"llama2\")\n"
     ]
    }
   ],
   "source": [
    "from langchain.llms import Ollama\n",
    "\n",
    "llm = Ollama(model=\"llama2\")"
   ]
  },
  {
   "cell_type": "code",
   "execution_count": 31,
   "id": "4b32179c-6453-41b1-a025-3b15e2ad393c",
   "metadata": {},
   "outputs": [],
   "source": [
    "from langchain.chains import RetrievalQA\n",
    "\n",
    "# Criar o pipeline de RAG\n",
    "qa_chain = RetrievalQA.from_chain_type(\n",
    "    llm=llm,\n",
    "    chain_type=\"stuff\",\n",
    "    retriever=vectorstore.as_retriever()\n",
    ")"
   ]
  },
  {
   "cell_type": "code",
   "execution_count": 36,
   "id": "481eee4b-0377-4f88-bbcc-6233fb9cf7cd",
   "metadata": {},
   "outputs": [],
   "source": [
    "pergunta = \"Quais são os principais desafios da inclusão de pessoas com deficiência em universidades brasileiras? Envie a resposta em português brasil.\""
   ]
  },
  {
   "cell_type": "code",
   "execution_count": 39,
   "id": "0318b9ce-931f-4b86-a4c3-48e9151e6c20",
   "metadata": {},
   "outputs": [
    {
     "name": "stderr",
     "output_type": "stream",
     "text": [
      "C:\\Users\\wende\\AppData\\Local\\Temp\\ipykernel_6392\\912322053.py:1: LangChainDeprecationWarning: The method `BaseLLM.__call__` was deprecated in langchain-core 0.1.7 and will be removed in 1.0. Use :meth:`~invoke` instead.\n",
      "  resposta_sem_rag = llm(pergunta)\n"
     ]
    },
    {
     "name": "stdout",
     "output_type": "stream",
     "text": [
      "Resposta sem RAG: \n",
      " Os principais desafios para a inclusão de pessoas com deficiência em universidades brasileiras incluem:\n",
      "\n",
      "1. Acessibilidade física: Many universities in Brazil lack wheelchair ramps, elevators, and other accessibility features, making it difficult or impossible for people with mobility impairments to navigate the campus.\n",
      "2. Lack of accommodations: Universities may not have the necessary accommodations to support students with disabilities, such as adapted classrooms, assistive technology, or sign language interpreters.\n",
      "3. Social stigma: People with disabilities may face social stigma and discrimination from their peers, which can create a hostile environment for them on campus.\n",
      "4. Limited resources: Universities may not have the necessary resources to provide adequate support services for students with disabilities, such as counseling or academic support.\n",
      "5. Lack of representation: People with disabilities may be underrepresented in university administrations and decision-making processes, which can result in a lack of understanding and support for their needs.\n",
      "6. Inadequate policies: Many universities do not have adequate policies and procedures in place to support students with disabilities, leaving them without the necessary accommodations or support.\n",
      "7. Limited access to technology: Students with disabilities may not have equal access to assistive technology, such as text-to-speech software or screen readers, which can hinder their ability to participate in academic activities.\n",
      "8. Lack of transportation: Universities may not provide accessible transportation options for students with mobility impairments, making it difficult for them to get around campus.\n",
      "9. Inadequate housing: Students with disabilities may face challenges finding accessible and adapted housing options on or near campus.\n",
      "10. Limited cultural sensitivity: Universities may not have a culturally sensitive approach to supporting students with disabilities, which can result in a lack of understanding and support for their specific needs.\n",
      "\n",
      "Essentially, the main challenges for inclusive education are related to physical accessibility, accommodations, social stigma, resources, representation, policies, technology, transportation, housing, and cultural sensitivity. Addressing these challenges is crucial for creating a more inclusive and supportive academic environment for students with disabilities in Brazil.\n"
     ]
    }
   ],
   "source": [
    "resposta_sem_rag = llm(pergunta)\n",
    "print(\"Resposta sem RAG:\", resposta_sem_rag)"
   ]
  },
  {
   "cell_type": "code",
   "execution_count": 43,
   "id": "70e56831-a641-431a-b455-84cfcc8e32be",
   "metadata": {},
   "outputs": [
    {
     "name": "stderr",
     "output_type": "stream",
     "text": [
      "C:\\Users\\wende\\AppData\\Local\\Temp\\ipykernel_6392\\1019417238.py:2: LangChainDeprecationWarning: The method `Chain.run` was deprecated in langchain 0.1.0 and will be removed in 1.0. Use :meth:`~invoke` instead.\n",
      "  resposta_com_rag = qa_chain.run(pergunta)\n"
     ]
    },
    {
     "name": "stdout",
     "output_type": "stream",
     "text": [
      "Resposta com RAG: Based on the provided context, the main challenges faced by people with disabilities in Brazilian universities are:\n",
      "\n",
      "1. Lack of accessibility: Many universities in Brazil still lack proper infrastructure and facilities to accommodate students with disabilities, such as wheelchair ramps, elevators, and adapted classrooms.\n",
      "2. Limited availability of reservation of quotas: The system of reservation of quotas for people with disabilities is not yet fully implemented in all universities, which can limit the access of these individuals to higher education.\n",
      "3. Social stigma: People with disabilities may face social stigma and discrimination, which can affect their self-esteem and academic performance.\n",
      "4. Limited financial resources: Many students with disabilities may struggle to afford the costs of higher education due to insufficient financial support from the government or their families.\n",
      "5. Lack of accommodation: Some universities may not have adapted accommodations for students with disabilities, such as accessible housing, which can make it difficult for these individuals to pursue their studies.\n",
      "6. Limited access to technology: Many universities in Brazil may not have the necessary technology and resources to support students with disabilities, such as assistive technologies or sign language interpretation.\n",
      "7. Limited availability of adapted curricula: The curriculum of many universities in Brazil may not be adapted for students with disabilities, which can limit their ability to pursue their studies effectively.\n",
      "8. Lack of training and support for professors: Many professors in Brazil may not have received adequate training or support to teach students with disabilities, which can affect the quality of education provided.\n",
      "9. Limited access to mental health services: Students with disabilities may face additional challenges related to mental health due to the stigma and discrimination they face, which can limit their access to mental health services on campus.\n",
      "10. Lack of integration and inclusion: Many universities in Brazil may not have a culture of inclusion and integration for students with disabilities, which can lead to social isolation and marginalization.\n"
     ]
    }
   ],
   "source": [
    "# Pergunta utilizando o pipeline RAG\n",
    "resposta_com_rag = qa_chain.run(pergunta)\n",
    "print(\"Resposta com RAG:\", resposta_com_rag)"
   ]
  },
  {
   "cell_type": "code",
   "execution_count": 51,
   "id": "83e9a6d0-d784-406c-956a-2b1766c77c9e",
   "metadata": {},
   "outputs": [
    {
     "name": "stdout",
     "output_type": "stream",
     "text": [
      "Pergunta do Usuário:\n",
      "Quais são os principais desafios da inclusão de pessoas com deficiência em universidades brasileiras? Envie a resposta em português brasil.\n",
      "\n",
      "Resposta do Bot:\n",
      "Os principais desafios da inclusão de pessoas com deficiência em universidades brasileiras incluem:\n",
      "\n",
      "1. Acessibilidade física e ambiental: As instituições de ensino superior podem precisar realizar melhorias na acessibilidade física e ambiental, como o uso de rampas, elevadores, áreas de reunião acessíveis, entre outras medidas.\n",
      "2. Adaptação do currículo: É importante que o currículo seja adaptado para atender às necessidades dos estudantes com deficiência, incluindo a utilização de recursos tecnológicos e didática innovadora.\n",
      "3. Acompanimento e suporte: As universidades precisam oferecer apoio e acompanhamento especializado aos estudantes com deficiência, para garantir o sucesso na navegação acadêmica.\n",
      "4. Lack of resources: Many Brazilian universities face resource constraints, which can hinder the implementation of inclusive policies and practices.\n",
      "5. Lack of awareness: There is a lack of awareness and understanding about disabilities among university students, faculty, and staff, which can lead to discrimination and exclusion.\n",
      "6. Limited access to technology: Students with disabilities may not have equal access to technology and assistive devices, which can hinder their ability to participate in academic activities.\n",
      "7. Stigma and social isolation: Students with disabilities may experience stigma and social isolation, which can affect their mental health and well-being.\n",
      "8. Limited career opportunities: Graduates with disabilities may face limited career opportunities due to discrimination or lack of accommodations in the workplace.\n",
      "9. Lack of representation: There is a lack of representation and voice for students with disabilities within universities, which can lead to a lack of understanding and support.\n"
     ]
    }
   ],
   "source": [
    "from langchain.prompts import PromptTemplate\n",
    "from langchain.chains import RetrievalQA\n",
    "\n",
    "template = \"\"\"\n",
    "Você é um especialista em Design Universal, acessibilidade educacional ou inclusão digita e irá responder a perguntas com base na Gestão de Design aplicada à Inclusão e Acessibilidade de Estudantes com  Deficiência no Ensino Superior.\n",
    "\n",
    "Utilize **somente o conteúdo dos documentos a seguir** para elaborar a resposta. Seja direto, objetivo e inclua o artigo específico, se citado. \n",
    "Envie resposta em Português PT-BR\n",
    "Formule uma resposta em até 20 palavras\n",
    "\n",
    "{context}\n",
    "\n",
    "Pergunta: {question}\n",
    "Resposta:\n",
    "\"\"\"\n",
    "\n",
    "prompt = PromptTemplate(\n",
    "    input_variables=[\"context\", \"question\"],\n",
    "    template=template,\n",
    ")\n",
    "\n",
    "qa_chain = RetrievalQA.from_chain_type(\n",
    "    llm=llm,\n",
    "    retriever=vectorstore.as_retriever(),\n",
    "    chain_type=\"stuff\",\n",
    "    chain_type_kwargs={\"prompt\": prompt},\n",
    ")\n",
    "\n",
    "resposta = qa_chain.invoke({\"query\": pergunta})\n",
    "\n",
    "print(\"Pergunta do Usuário:\")\n",
    "print(resposta[\"query\"])\n",
    "print(\"\\nResposta do Bot:\")\n",
    "print(resposta[\"result\"])"
   ]
  },
  {
   "cell_type": "markdown",
   "id": "5e4e564e-7bc8-48f6-9313-1460a1c00ae5",
   "metadata": {},
   "source": [
    "--------------------------------------------\n",
    "INTELIGÊNCIA ARTIFICIAL\n",
    "NOME: Wendel Victor Santos Xavier\n",
    "RA: 972310140\n",
    "I͏nt͏elig͏ênci͏a artif͏icial ͏com ͏RAG (͏Resgat͏e-Aume͏ntado Ge͏ração) pr͏o͏cura inf͏ormações em papéis f͏or͏a (͏como P͏DFs) antes de͏ respon͏de͏r- enquanto ͏a ͏inteli͏gência artificial s͏em RAG respond͏e só ͏com base no que já foi ensinada. Se͏m usar ͏o RAG- eu vi isso agora que a resposta fi͏ca mais básica e͏ com ͏uma ͏tendên͏ci͏a a faz͏er imagens erradas.͏ Já com͏ ͏o RAG a resposta fica mais completa porqu͏e le͏va e͏m conta o conteú͏do do documento ͏inserido- e quando͏ se usa RAG junto com͏ um comando bem organizado as resposta se torna mais aprofundada com ma͏ior base e con͏texto. Usando Ollama com ͏Ju͏pyterLab dá͏ para fazer e͏sse proces͏so localmente͏ misturando IA e dados sob medida."
   ]
  }
 ],
 "metadata": {
  "kernelspec": {
   "display_name": "Python [conda env:base] *",
   "language": "python",
   "name": "conda-base-py"
  },
  "language_info": {
   "codemirror_mode": {
    "name": "ipython",
    "version": 3
   },
   "file_extension": ".py",
   "mimetype": "text/x-python",
   "name": "python",
   "nbconvert_exporter": "python",
   "pygments_lexer": "ipython3",
   "version": "3.12.7"
  }
 },
 "nbformat": 4,
 "nbformat_minor": 5
}
